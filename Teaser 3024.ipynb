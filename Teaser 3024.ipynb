{
 "cells": [
  {
   "cell_type": "markdown",
   "metadata": {},
   "source": [
    "# Teaser 3024\n"
   ]
  },
  {
   "cell_type": "markdown",
   "metadata": {},
   "source": [
    "Rough algo to work out the answer\n",
    "Set the position of the 7s. Check what other positions are available for the remaining numbers, then work through them in sequence by brute force. I can't see any way to do this more efficiently with pencil and paper so presumably there aren't that many possibilities"
   ]
  },
  {
   "cell_type": "code",
   "execution_count": 252,
   "metadata": {},
   "outputs": [
    {
     "name": "stdout",
     "output_type": "stream",
     "text": [
      "Number: 2 Possibilities: 18\n",
      "[[1, 4, 7], [2, 5, 8], [3, 6, 9], [4, 7, 10], [5, 8, 11], [6, 9, 12], [7, 10, 13], [8, 11, 14], [9, 12, 15], [10, 13, 16], [11, 14, 17], [12, 15, 18], [13, 16, 19], [14, 17, 20], [15, 18, 21], [16, 19, 22], [17, 20, 23], [18, 21, 24]]\n",
      "Number: 3 Possibilities: 16\n",
      "[[1, 5, 9], [2, 6, 10], [3, 7, 11], [4, 8, 12], [5, 9, 13], [6, 10, 14], [7, 11, 15], [8, 12, 16], [9, 13, 17], [10, 14, 18], [11, 15, 19], [12, 16, 20], [13, 17, 21], [14, 18, 22], [15, 19, 23], [16, 20, 24]]\n",
      "Number: 4 Possibilities: 14\n",
      "[[1, 6, 11], [2, 7, 12], [3, 8, 13], [4, 9, 14], [5, 10, 15], [6, 11, 16], [7, 12, 17], [8, 13, 18], [9, 14, 19], [10, 15, 20], [11, 16, 21], [12, 17, 22], [13, 18, 23], [14, 19, 24]]\n",
      "Number: 5 Possibilities: 12\n",
      "[[1, 7, 13], [2, 8, 14], [3, 9, 15], [4, 10, 16], [5, 11, 17], [6, 12, 18], [7, 13, 19], [8, 14, 20], [9, 15, 21], [10, 16, 22], [11, 17, 23], [12, 18, 24]]\n",
      "Number: 6 Possibilities: 10\n",
      "[[1, 8, 15], [2, 9, 16], [3, 10, 17], [4, 11, 18], [5, 12, 19], [6, 13, 20], [7, 14, 21], [8, 15, 22], [9, 16, 23], [10, 17, 24]]\n",
      "Number: 7 Possibilities: 8\n",
      "[[1, 9, 17], [2, 10, 18], [3, 11, 19], [4, 12, 20], [5, 13, 21], [6, 14, 22], [7, 15, 23], [8, 16, 24]]\n",
      "Number: 8 Possibilities: 6\n",
      "[[1, 10, 19], [2, 11, 20], [3, 12, 21], [4, 13, 22], [5, 14, 23], [6, 15, 24]]\n",
      "Number: 9 Possibilities: 4\n",
      "[[1, 11, 21], [2, 12, 22], [3, 13, 23], [4, 14, 24]]\n",
      "Total Possibilites: 92897280\n",
      "[[[1, 4, 7], [2, 5, 8], [3, 6, 9], [4, 7, 10], [5, 8, 11], [6, 9, 12], [7, 10, 13], [8, 11, 14], [9, 12, 15], [10, 13, 16], [11, 14, 17], [12, 15, 18], [13, 16, 19], [14, 17, 20], [15, 18, 21], [16, 19, 22], [17, 20, 23], [18, 21, 24]], [[1, 5, 9], [2, 6, 10], [3, 7, 11], [4, 8, 12], [5, 9, 13], [6, 10, 14], [7, 11, 15], [8, 12, 16], [9, 13, 17], [10, 14, 18], [11, 15, 19], [12, 16, 20], [13, 17, 21], [14, 18, 22], [15, 19, 23], [16, 20, 24]], [[1, 6, 11], [2, 7, 12], [3, 8, 13], [4, 9, 14], [5, 10, 15], [6, 11, 16], [7, 12, 17], [8, 13, 18], [9, 14, 19], [10, 15, 20], [11, 16, 21], [12, 17, 22], [13, 18, 23], [14, 19, 24]], [[1, 7, 13], [2, 8, 14], [3, 9, 15], [4, 10, 16], [5, 11, 17], [6, 12, 18], [7, 13, 19], [8, 14, 20], [9, 15, 21], [10, 16, 22], [11, 17, 23], [12, 18, 24]], [[1, 8, 15], [2, 9, 16], [3, 10, 17], [4, 11, 18], [5, 12, 19], [6, 13, 20], [7, 14, 21], [8, 15, 22], [9, 16, 23], [10, 17, 24]], [[1, 9, 17], [2, 10, 18], [3, 11, 19], [4, 12, 20], [5, 13, 21], [6, 14, 22], [7, 15, 23], [8, 16, 24]], [[1, 10, 19], [2, 11, 20], [3, 12, 21], [4, 13, 22], [5, 14, 23], [6, 15, 24]], [[1, 11, 21], [2, 12, 22], [3, 13, 23], [4, 14, 24]]]\n"
     ]
    }
   ],
   "source": [
    "def check(num):\n",
    "    poss_list = []\n",
    "    for i in range(1,24+1-3-2*num+1):\n",
    "        poss_list.append([i, i+num+1, i+2*num+2])\n",
    "    return poss_list\n",
    "#add default to banned to speed it up 6, 14, 22\n",
    "def remove(num, banned = []):\n",
    "    bad_row = []\n",
    "    for row in num:\n",
    "        for i in banned:\n",
    "            if i in row:\n",
    "                bad_row.append(row)\n",
    "                break\n",
    "    for row in bad_row:\n",
    "        num.remove(row)\n",
    "    return num\n",
    "cards = [2,3,4,5,6,7,8,9]\n",
    "nums = list(range(2, 10))\n",
    "poss = 1\n",
    "full_list = []\n",
    "for k in cards:\n",
    "    temp_list = []\n",
    "    num_list = tuple(remove(check(k)))\n",
    "    temp_list += num_list\n",
    "    poss *= len(num_list)\n",
    "    print(\"Number:\", k, \"Possibilities:\", len(num_list))    \n",
    "    print(remove(check(k)))\n",
    "    full_list.append(temp_list)\n",
    "print(\"Total Possibilites:\", poss) \n",
    "print(full_list)"
   ]
  },
  {
   "cell_type": "markdown",
   "metadata": {},
   "source": [
    "Just 93m possible positions if we allow them to overlap with each other"
   ]
  },
  {
   "cell_type": "code",
   "execution_count": null,
   "metadata": {},
   "outputs": [],
   "source": [
    "#takes a while and has some top notch iteration variable names\n",
    "import itertools\n",
    "for i in itertools.product(*full_list):\n",
    "    if len(set([j for k in i for j in k])) == len([j for k in i for j in k]):\n",
    "        print(i)"
   ]
  },
  {
   "cell_type": "markdown",
   "metadata": {},
   "source": [
    "\n",
    "Answers are  \n",
    "([2, 5, 8], [16, 20, 24], [7, 12, 17], [9, 15, 21], [4, 11, 18], [6, 14, 22], [1, 10, 19], [3, 13, 23])     \n",
    "([2, 5, 8], [16, 20, 24], [9, 14, 19], [6, 12, 18], [3, 10, 17], [7, 15, 23], [4, 13, 22], [1, 11, 21])   \n",
    "([17, 20, 23], [1, 5, 9], [6, 11, 16], [7, 13, 19], [8, 15, 22], [2, 10, 18], [3, 12, 21], [4, 14, 24])  \n",
    "([17, 20, 23], [1, 5, 9], [8, 13, 18], [4, 10, 16], [7, 14, 21], [3, 11, 19], [6, 15, 24], [2, 12, 22])     \n",
    "Given that 7 is in slot six, the first six cards are 8, 2, A, 6, 2, 7 "
   ]
  }
 ],
 "metadata": {
  "kernelspec": {
   "display_name": "Python 3",
   "language": "python",
   "name": "python3"
  },
  "language_info": {
   "codemirror_mode": {
    "name": "ipython",
    "version": 3
   },
   "file_extension": ".py",
   "mimetype": "text/x-python",
   "name": "python",
   "nbconvert_exporter": "python",
   "pygments_lexer": "ipython3",
   "version": "3.7.3"
  }
 },
 "nbformat": 4,
 "nbformat_minor": 2
}
