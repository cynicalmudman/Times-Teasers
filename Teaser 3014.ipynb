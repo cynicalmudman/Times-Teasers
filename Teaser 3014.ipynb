{
 "cells": [
  {
   "cell_type": "markdown",
   "metadata": {},
   "source": [
    "# Teaser 3014\n",
    "George and Martha run a copany with their five daughters. The telephone extensions all have four positive unequal digits and strangely only four digits apppear in the seven extensions:\n",
    "\n",
    "|Name | Extension|\n",
    "|:--- | ---:|\n",
    "|Andrea| abcd|\n",
    "|Bertha| acdb|\n",
    "|Caroline | bacd|\n",
    "|Dorothy | dabc|\n",
    "|Elizabeth | dbca|\n",
    "|George | cabd|\n",
    "|Martha | cdab|\n",
    "\n",
    "They noticed the following:\n",
    "* Andrea's and Bertha's add up to Dorothy's\n",
    "* Bertha's and Elizabeth's add up to George's\n",
    "* Caroline's and Dorothy's add up to Martha's\n",
    "\n",
    "**What is Andrea's Extension** \n",
    "\n",
    "\n",
    "(Fairly trivial from looking at left hand sides and right hand sides of sums (and subsituting Andrea and Bertha for Dorothy in the final sum tells you d = 5, but here's the brute force answer)\n"
   ]
  },
  {
   "cell_type": "code",
   "execution_count": 43,
   "metadata": {},
   "outputs": [
    {
     "name": "stdout",
     "output_type": "stream",
     "text": [
      "Andrea's extension is 2385\n"
     ]
    }
   ],
   "source": [
    "import numpy as np\n",
    "mult = [1000, 100, 10, 1]\n",
    "\n",
    "\n",
    "for i in range(10):\n",
    "    for j in range(10):\n",
    "        for k in range(10):\n",
    "            for l in range(10):\n",
    "                #check digits are unique\n",
    "                if len(set([i,j,k,l])) < 4:\n",
    "                    continue\n",
    "                a, b, c, d = i, j, k, l\n",
    "                \n",
    "                exts = {\n",
    "                    'Andrea': [a,b,c,d],\n",
    "                    'Bertha': [a,c,d,b],\n",
    "                    'Caroline': [b,a,c,d],\n",
    "                    'Dorothy': [d,a,b,c],\n",
    "                    'Elizabeth': [d,b,c,a],\n",
    "                    'George': [c,a,b,d],\n",
    "                    'Martha': [c,d,a,b]\n",
    "                    }\n",
    "                \n",
    "                And = np.dot(exts['Andrea'], mult) #pretty shabby use of 'And'\n",
    "                Ber = np.dot(exts['Bertha'], mult)\n",
    "                Dor = np.dot(exts['Dorothy'], mult)    \n",
    "                Eli = np.dot(exts['Elizabeth'], mult)\n",
    "                Geo = np.dot(exts['George'], mult)\n",
    "                Car = np.dot(exts['Caroline'], mult)\n",
    "                Mar = np.dot(exts['Martha'], mult)\n",
    "                if Dor == And + Ber and Geo == Ber + Eli and Mar == Car + Dor:\n",
    "                    print('Andrea\\'s extension is', And)\n",
    "                    \n",
    "                "
   ]
  }
 ],
 "metadata": {
  "kernelspec": {
   "display_name": "Python 3",
   "language": "python",
   "name": "python3"
  },
  "language_info": {
   "codemirror_mode": {
    "name": "ipython",
    "version": 3
   },
   "file_extension": ".py",
   "mimetype": "text/x-python",
   "name": "python",
   "nbconvert_exporter": "python",
   "pygments_lexer": "ipython3",
   "version": "3.7.3"
  }
 },
 "nbformat": 4,
 "nbformat_minor": 2
}
