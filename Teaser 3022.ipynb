{
 "cells": [
  {
   "cell_type": "markdown",
   "metadata": {},
   "source": [
    "# Teaser 3022\n",
    "\n",
    "**Sporty set**\n",
    "\n",
    "There are 100 members of my sports club where we can play tennis, badminton, squash and table tennis (with table tennis being the least popular). Last week I reported to the secretary the numbers who participate in each of the four sports. The digits used overall in the four numbers were different and not zero.\n",
    "\n",
    "The secretary wondered how many of the members were keen enough to play all four sports, but of course he was unable to work out that number from the four numbers I had given him. However, he used the four numbers to work out the minimum and the maximum possible numbers playing all four sports. His two answers were two-figure numbers, one being a multiple of the other.\n",
    "\n",
    "**How many played table tennis?**"
   ]
  },
  {
   "cell_type": "code",
   "execution_count": 38,
   "metadata": {},
   "outputs": [
    {
     "name": "stdout",
     "output_type": "stream",
     "text": [
      "[[[94, 83, 71, 65], 65, 13], [[94, 81, 73, 65], 65, 13], [[93, 84, 71, 65], 65, 13], [[93, 81, 74, 65], 65, 13], [[91, 84, 73, 65], 65, 13], [[91, 83, 74, 65], 65, 13]]\n"
     ]
    }
   ],
   "source": [
    "\n",
    "results = [] \n",
    "#looping through everything brute force\n",
    "for i in range(100, 0, -1):\n",
    "    for j in range(i - 1, 0, -1):\n",
    "        for k in range(j - 1, 0, -1):\n",
    "            for l in range(k - 1, 0 , -1):\n",
    "                row = ([i, j, k, l])\n",
    "                num_list = []\n",
    "                for num in row:\n",
    "                    num = str(num)\n",
    "                    for digit in num:\n",
    "                        num_list.append(digit)\n",
    "                    if len(set(num_list)) == 8 and \"0\" not in set(num_list):\n",
    "                        results.append([i, j, k, l])\n",
    "results_sorted = []\n",
    "for row in results:\n",
    "    minimum = sum(row) - 300\n",
    "    maximum = min((sum(row) - 100) / 3, row[3])\n",
    "    if minimum >= 10  and maximum >= 10:\n",
    "        line = []\n",
    "        line.append(row)\n",
    "        line.append(maximum)\n",
    "        line.append(minimum)\n",
    "        if maximum % minimum == 0:\n",
    "            results_sorted.append(line)\n",
    "print(results_sorted)\n",
    "    "
   ]
  },
  {
   "cell_type": "markdown",
   "metadata": {},
   "source": [
    "The number of table tennis players is certainly 65, though the number of the other players is not certain"
   ]
  }
 ],
 "metadata": {
  "kernelspec": {
   "display_name": "Python 3",
   "language": "python",
   "name": "python3"
  },
  "language_info": {
   "codemirror_mode": {
    "name": "ipython",
    "version": 3
   },
   "file_extension": ".py",
   "mimetype": "text/x-python",
   "name": "python",
   "nbconvert_exporter": "python",
   "pygments_lexer": "ipython3",
   "version": "3.7.3"
  }
 },
 "nbformat": 4,
 "nbformat_minor": 2
}
