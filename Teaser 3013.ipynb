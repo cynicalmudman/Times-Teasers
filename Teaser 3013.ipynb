{
 "cells": [
  {
   "cell_type": "markdown",
   "metadata": {},
   "source": [
    "# Teaser 3013\n",
    "When I thought that my daughter was old enough to be responsible with money I geave her on her next, and all subsequent birthdays, cash amounts (in pounds) which were equal to her birhtday age squared.\n",
    "\n",
    "On her last birthday her age was twice the number of years for which she received no such presents. I calculated at this birthday that if I had made these gift on all of her birthdays then she would have received 15% more that she had actually received. I then decided that I would stop making the payments after her birthday when she would have received only 7.5% more if the payments had been made on all of her birthdays.\n",
    "\n",
    "**What was the amount of the final birthday payment?**"
   ]
  },
  {
   "cell_type": "code",
   "execution_count": 73,
   "metadata": {},
   "outputs": [
    {
     "name": "stdout",
     "output_type": "stream",
     "text": [
      "Answer is: 34 17\n",
      "That is, presents are given from age 18 to age 34 inclusive\n",
      "Total cash: 11900\n"
     ]
    }
   ],
   "source": [
    "#straightforward in python, but more satisfying as algebra\n",
    "\n",
    "a = 0\n",
    "sumsq = []\n",
    "sumsq.append(0)\n",
    "for i in range(1,151):\n",
    "    a += i**2\n",
    "    sumsq.append(a)\n",
    "\n",
    "ratio = []\n",
    "for i in range(3,151,2):\n",
    "    r = sumsq[i-1]/(sumsq[i-1]-sumsq[int((i-1)/2)])\n",
    "    ratio.append([i, int((i-1)/2), r])\n",
    "    if r == 1.15:\n",
    "        print('Answer is:', (i-1), int((i-1)/2))\n",
    "        print('That is, presents are given from age', int((i-1)/2+1), 'to age', i-1, 'inclusive')\n",
    "        print('Total cash:', sumsq[i-1]-sumsq[int((i-1)/2)])\n",
    "        "
   ]
  },
  {
   "cell_type": "markdown",
   "metadata": {},
   "source": [
    "Now work out at what age the ratio would be 1.075"
   ]
  },
  {
   "cell_type": "code",
   "execution_count": 76,
   "metadata": {},
   "outputs": [
    {
     "name": "stdout",
     "output_type": "stream",
     "text": [
      "Answer is: 42 17\n",
      "That is, presents are given from age 18 to age 42 inclusive\n",
      "Total cash: 23800\n",
      "Final birthday payment: 1764\n"
     ]
    }
   ],
   "source": [
    "for i in range(3,151,2):\n",
    "    r = sumsq[i-1]/(sumsq[i-1]-sumsq[17])\n",
    "    ratio.append([i, 17, r])\n",
    "    if r == 1.075:\n",
    "        print('Answer is:', (i-1), 17)\n",
    "        print('That is, presents are given from age', 17 + 1, 'to age', i-1, 'inclusive')\n",
    "        print('Total cash:', sumsq[i-1]-sumsq[17])\n",
    "        print('Final birthday payment:', (i-1)**2)"
   ]
  },
  {
   "cell_type": "markdown",
   "metadata": {},
   "source": [
    "Final answer is £1,764"
   ]
  }
 ],
 "metadata": {
  "kernelspec": {
   "display_name": "Python 3",
   "language": "python",
   "name": "python3"
  },
  "language_info": {
   "codemirror_mode": {
    "name": "ipython",
    "version": 3
   },
   "file_extension": ".py",
   "mimetype": "text/x-python",
   "name": "python",
   "nbconvert_exporter": "python",
   "pygments_lexer": "ipython3",
   "version": "3.7.3"
  }
 },
 "nbformat": 4,
 "nbformat_minor": 2
}
