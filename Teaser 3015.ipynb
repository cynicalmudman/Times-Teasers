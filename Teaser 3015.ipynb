{
 "cells": [
  {
   "cell_type": "markdown",
   "metadata": {},
   "source": [
    "# Teaser 3015\n",
    "\n",
    "Two denominations of money\n",
    "\n",
    "1) combinations of notes can make all three digit numbers\n",
    "\n",
    "2) both deonominations are used to make 100\n",
    "\n",
    "3) only one combination of denominations makes 230"
   ]
  },
  {
   "cell_type": "code",
   "execution_count": 19,
   "metadata": {},
   "outputs": [
    {
     "name": "stdout",
     "output_type": "stream",
     "text": [
      "Denominations are: 3 49\n"
     ]
    }
   ],
   "source": [
    "# function to determine how many times a given number, c, can be made with two other numbers, a, b\n",
    "def ways(a, b, c):\n",
    "    cnt = 0\n",
    "    for i in range(0, c // a + 1):\n",
    "        re = c - i * a\n",
    "        if re % b == 0:\n",
    "            cnt += 1\n",
    "    return cnt\n",
    "\n",
    "# denoms can't be less than 3 (condition 2) or more than 97 (condition 2)\n",
    "for i in range(3,98):\n",
    "    for j in range(i,98):\n",
    "        # check 2\n",
    "        hun_flg = False\n",
    "        if ways(i, j, 100) > 0 and 100 % i != 0 and 100 % j != 0:\n",
    "            hun_flg = True\n",
    "        # check 3\n",
    "        tooth_hurty_flg = False\n",
    "        if ways(i, j, 230) == 1:\n",
    "            tooth_hurty_flg = True\n",
    "        # check 1\n",
    "        # it's enough to check from 101 to 100 + the lower of i and j (i.e. i) - 1\n",
    "        all_three_flg = True\n",
    "        for k in range(101, 100 + i):\n",
    "            if ways(i, j, k) == 0:\n",
    "                all_three_flg = False\n",
    "        if hun_flg == True and tooth_hurty_flg == True and all_three_flg == True:  \n",
    "            print(\"Denominations are:\",i,j)"
   ]
  }
 ],
 "metadata": {
  "kernelspec": {
   "display_name": "Python 3",
   "language": "python",
   "name": "python3"
  },
  "language_info": {
   "codemirror_mode": {
    "name": "ipython",
    "version": 3
   },
   "file_extension": ".py",
   "mimetype": "text/x-python",
   "name": "python",
   "nbconvert_exporter": "python",
   "pygments_lexer": "ipython3",
   "version": "3.7.3"
  }
 },
 "nbformat": 4,
 "nbformat_minor": 2
}
